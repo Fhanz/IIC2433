{
 "cells": [
  {
   "cell_type": "markdown",
   "metadata": {},
   "source": [
    "# IIC-2433 Minería de Datos UC"
   ]
  },
  {
   "cell_type": "markdown",
   "metadata": {},
   "source": [
    "- Versiones de librerías, python 3.8.10\n",
    "\n",
    "- numpy 1.20.3\n",
    "- sklearn 1.0.2\n",
    "- matplotlib 3.5.2\n",
    "- scipy 1.8.0"
   ]
  },
  {
   "cell_type": "code",
   "execution_count": 1,
   "metadata": {},
   "outputs": [],
   "source": [
    "from sklearn import datasets\n",
    "digits = datasets.load_digits()\n",
    "X = digits.data[:50,]\n",
    "y = digits.target[:50,]"
   ]
  },
  {
   "cell_type": "markdown",
   "metadata": {},
   "source": [
    "\n",
    "## Actividad en clase\n",
    "\n",
    "Clusterice el dataset usando **HAC**. Para esto haga lo siguiente:\n",
    "\n",
    "- Escale los datos usando MinMaxScaler y reduzca la dimensionalidad del sample de manera que retenga el 90% de la varianza.\n",
    "- Corra HAC con {single link|average link|complete link|ward} para valores de k en el rango {8, 9, 10, 11, 12}. \n",
    "- Determine el mejor valor de k según el Silhouette score promedio. \n",
    "- Determine cuáles son los dos mejores modelos para el rango de k evaluado. \n",
    "- Cuanto termine, me avisa para entregarle una **L (logrado)**.\n",
    "- Recuerde que las L otorgan un bono en la nota final de la asignatura.\n",
    "- Pueden trabajar de a dos.\n",
    "\n",
    "***Tiene hasta el final de la clase.***\n"
   ]
  },
  {
   "cell_type": "markdown",
   "metadata": {},
   "source": [
    "# Solución"
   ]
  },
  {
   "cell_type": "code",
   "execution_count": 2,
   "metadata": {},
   "outputs": [],
   "source": [
    "from sklearn import preprocessing\n",
    "\n",
    "min_max_scaler = preprocessing.MinMaxScaler()\n",
    "X = min_max_scaler.fit_transform(X)"
   ]
  },
  {
   "cell_type": "code",
   "execution_count": 3,
   "metadata": {},
   "outputs": [],
   "source": [
    "from sklearn.decomposition import PCA\n",
    "\n",
    "def min_var(v,exp_var):\n",
    "    acc = 0\n",
    "    i=0\n",
    "    while acc < v:\n",
    "        acc += exp_var[i]\n",
    "        i += 1\n",
    "    return i"
   ]
  },
  {
   "cell_type": "code",
   "execution_count": 4,
   "metadata": {},
   "outputs": [
    {
     "data": {
      "text/plain": [
       "16"
      ]
     },
     "execution_count": 4,
     "metadata": {},
     "output_type": "execute_result"
    }
   ],
   "source": [
    "pca = PCA(n_components=50)\n",
    "pca.fit(X)\n",
    "min_var(0.9,pca.explained_variance_ratio_)"
   ]
  },
  {
   "cell_type": "code",
   "execution_count": 5,
   "metadata": {},
   "outputs": [],
   "source": [
    "pca = PCA(n_components=16)\n",
    "X= pca.fit_transform(X)"
   ]
  },
  {
   "cell_type": "code",
   "execution_count": 6,
   "metadata": {},
   "outputs": [
    {
     "name": "stdout",
     "output_type": "stream",
     "text": [
      "For n_clusters = 8 The average silhouette_score using single link is : 0.21318737806351148\n",
      "For n_clusters = 8 The average silhouette_score using average link is : 0.2922164553707203\n",
      "For n_clusters = 8 The average silhouette_score using complete link is : 0.2725985259022848\n",
      "For n_clusters = 8 The average silhouette_score using ward is : 0.30048983611075797\n",
      "For n_clusters = 9 The average silhouette_score using single link is : 0.24590378484479003\n",
      "For n_clusters = 9 The average silhouette_score using average link is : 0.3158047156300784\n",
      "For n_clusters = 9 The average silhouette_score using complete link is : 0.2731419390954508\n",
      "For n_clusters = 9 The average silhouette_score using ward is : 0.30334958060660183\n",
      "For n_clusters = 10 The average silhouette_score using single link is : 0.28330035015536476\n",
      "For n_clusters = 10 The average silhouette_score using average link is : 0.33098912903776545\n",
      "For n_clusters = 10 The average silhouette_score using complete link is : 0.3086401825690758\n",
      "For n_clusters = 10 The average silhouette_score using ward is : 0.32584340607720513\n",
      "For n_clusters = 11 The average silhouette_score using single link is : 0.3243404983697664\n",
      "For n_clusters = 11 The average silhouette_score using average link is : 0.3243404983697664\n",
      "For n_clusters = 11 The average silhouette_score using complete link is : 0.33064123750338537\n",
      "For n_clusters = 11 The average silhouette_score using ward is : 0.34120555242979284\n",
      "For n_clusters = 12 The average silhouette_score using single link is : 0.3373699353072366\n",
      "For n_clusters = 12 The average silhouette_score using average link is : 0.3373699353072366\n",
      "For n_clusters = 12 The average silhouette_score using complete link is : 0.3217123318089786\n",
      "For n_clusters = 12 The average silhouette_score using ward is : 0.34921612522865436\n"
     ]
    }
   ],
   "source": [
    "import matplotlib.pyplot as plt\n",
    "import matplotlib.cm as cm\n",
    "import numpy as np\n",
    "from sklearn.cluster import AgglomerativeClustering\n",
    "from sklearn.metrics import silhouette_samples, silhouette_score\n",
    "from sklearn.pipeline import make_pipeline\n",
    "from sklearn.preprocessing import MinMaxScaler\n",
    "\n",
    "range_n_clusters = [8, 9, 10, 11, 12]\n",
    "\n",
    "for n_clusters in range_n_clusters:\n",
    "    \n",
    "    hac1 = AgglomerativeClustering(linkage='single', n_clusters=n_clusters)\n",
    "    hac1 = hac1.fit(X)\n",
    "\n",
    "    hac2 = AgglomerativeClustering(linkage='average', n_clusters=n_clusters)\n",
    "    hac2 = hac2.fit(X)\n",
    "\n",
    "    hac3 = AgglomerativeClustering(linkage='complete', n_clusters=n_clusters)\n",
    "    hac3 = hac3.fit(X)\n",
    "\n",
    "    hac4 = AgglomerativeClustering(linkage='ward', n_clusters=n_clusters)\n",
    "    hac4 = hac4.fit(X)\n",
    "\n",
    "    \n",
    "    cluster_labels_1 = hac1.fit_predict(X)\n",
    "    cluster_labels_2 = hac2.fit_predict(X)\n",
    "    cluster_labels_3 = hac3.fit_predict(X)\n",
    "    cluster_labels_4 = hac4.fit_predict(X)\n",
    "\n",
    "    # The silhouette_score gives the average value for all the samples.\n",
    "    # This gives a perspective into the density and separation of the formed\n",
    "    # clusters\n",
    "    silhouette_avg_1 = silhouette_score(X, cluster_labels_1)\n",
    "    silhouette_avg_2 = silhouette_score(X, cluster_labels_2)\n",
    "    silhouette_avg_3 = silhouette_score(X, cluster_labels_3)\n",
    "    silhouette_avg_4 = silhouette_score(X, cluster_labels_4)\n",
    "    print(\n",
    "        \"For n_clusters =\",\n",
    "        n_clusters,\n",
    "        \"The average silhouette_score using single link is :\",\n",
    "        silhouette_avg_1,\n",
    "    )\n",
    "    \n",
    "    print(\n",
    "        \"For n_clusters =\",\n",
    "        n_clusters,\n",
    "        \"The average silhouette_score using average link is :\",\n",
    "        silhouette_avg_2,\n",
    "    )\n",
    "    \n",
    "    print(\n",
    "        \"For n_clusters =\",\n",
    "        n_clusters,\n",
    "        \"The average silhouette_score using complete link is :\",\n",
    "        silhouette_avg_3,\n",
    "    )\n",
    "    \n",
    "    print(\n",
    "        \"For n_clusters =\",\n",
    "        n_clusters,\n",
    "        \"The average silhouette_score using ward is :\",\n",
    "        silhouette_avg_4,\n",
    "    )\n"
   ]
  },
  {
   "cell_type": "markdown",
   "metadata": {},
   "source": [
    "Los que funcionan mejor son average link y ward"
   ]
  },
  {
   "cell_type": "code",
   "execution_count": null,
   "metadata": {},
   "outputs": [],
   "source": []
  }
 ],
 "metadata": {
  "kernelspec": {
   "display_name": "Python 3 (ipykernel)",
   "language": "python",
   "name": "python3"
  },
  "language_info": {
   "codemirror_mode": {
    "name": "ipython",
    "version": 3
   },
   "file_extension": ".py",
   "mimetype": "text/x-python",
   "name": "python",
   "nbconvert_exporter": "python",
   "pygments_lexer": "ipython3",
   "version": "3.10.10"
  }
 },
 "nbformat": 4,
 "nbformat_minor": 4
}
