{
 "cells": [
  {
   "cell_type": "markdown",
   "metadata": {},
   "source": [
    "# IIC-2433 Minería de Datos UC"
   ]
  },
  {
   "cell_type": "markdown",
   "metadata": {},
   "source": [
    "- Versiones de librerías, python 3.8.10\n",
    "\n",
    "- numpy 1.20.3\n",
    "- sklearn 1.0.2\n"
   ]
  },
  {
   "cell_type": "code",
   "execution_count": 1,
   "metadata": {},
   "outputs": [],
   "source": [
    "from sklearn import datasets\n",
    "digits = datasets.load_digits()\n",
    "X = digits.data\n",
    "y = digits.target"
   ]
  },
  {
   "cell_type": "code",
   "execution_count": 2,
   "metadata": {},
   "outputs": [],
   "source": [
    "from sklearn.model_selection import train_test_split\n",
    "\n",
    "X_train, X_test, y_train, y_test = train_test_split(X, y, test_size=0.3,random_state=109, stratify=y)"
   ]
  },
  {
   "cell_type": "code",
   "execution_count": 3,
   "metadata": {},
   "outputs": [
    {
     "name": "stdout",
     "output_type": "stream",
     "text": [
      "For nu = 0.1 The accuracy is : 0.975925925925926\n",
      "For nu = 0.2 The accuracy is : 0.9685185185185186\n",
      "For nu = 0.3 The accuracy is : 0.9629629629629629\n",
      "For nu = 0.4 The accuracy is : 0.9537037037037037\n",
      "For nu = 0.5 The accuracy is : 0.9407407407407408\n",
      "For nu = 0.6 The accuracy is : 0.9296296296296296\n"
     ]
    }
   ],
   "source": [
    "from sklearn.svm import NuSVC\n",
    "from sklearn.pipeline import make_pipeline\n",
    "from sklearn.preprocessing import StandardScaler\n",
    "from sklearn import metrics\n",
    "\n",
    "range_nu = [0.1, 0.2, 0.3, 0.4, 0.5, 0.6]\n",
    "\n",
    "for nu_ in range_nu:\n",
    "    clf = make_pipeline(StandardScaler(), NuSVC(nu=nu_))\n",
    "    clf.fit(X_train, y_train)\n",
    "    y_pred = clf.predict(X_test)\n",
    "    acc = metrics.accuracy_score(y_test, y_pred)\n",
    "    print(\n",
    "        \"For nu =\",\n",
    "        nu_,\n",
    "        \"The accuracy is :\",\n",
    "        acc,\n",
    "    )\n",
    "    \n",
    "    "
   ]
  },
  {
   "cell_type": "markdown",
   "metadata": {},
   "source": [
    "Ver parámetros en: https://scikit-learn.org/stable/modules/generated/sklearn.svm.NuSVC.html"
   ]
  },
  {
   "cell_type": "code",
   "execution_count": 4,
   "metadata": {},
   "outputs": [
    {
     "name": "stdout",
     "output_type": "stream",
     "text": [
      "              precision    recall  f1-score   support\n",
      "\n",
      "           0       1.00      1.00      1.00        54\n",
      "           1       1.00      0.98      0.99        55\n",
      "           2       1.00      0.98      0.99        53\n",
      "           3       1.00      0.96      0.98        55\n",
      "           4       0.88      0.96      0.92        54\n",
      "           5       1.00      0.96      0.98        55\n",
      "           6       0.98      1.00      0.99        54\n",
      "           7       0.95      0.98      0.96        54\n",
      "           8       0.98      0.96      0.97        52\n",
      "           9       0.98      0.96      0.97        54\n",
      "\n",
      "    accuracy                           0.98       540\n",
      "   macro avg       0.98      0.98      0.98       540\n",
      "weighted avg       0.98      0.98      0.98       540\n",
      "\n"
     ]
    }
   ],
   "source": [
    "clf = make_pipeline(StandardScaler(), NuSVC(nu=0.1))\n",
    "clf.fit(X_train, y_train)\n",
    "y_pred = clf.predict(X_test)\n",
    "print(metrics.classification_report(y_test, y_pred))"
   ]
  },
  {
   "cell_type": "code",
   "execution_count": 5,
   "metadata": {},
   "outputs": [
    {
     "data": {
      "image/png": "[encoded data removed]",
      "text/plain": [
       "<Figure size 640x480 with 2 Axes>"
      ]
     },
     "metadata": {},
     "output_type": "display_data"
    }
   ],
   "source": [
    "cm = metrics.confusion_matrix(y_test, y_pred)\n",
    "cm_display = metrics.ConfusionMatrixDisplay(cm).plot()"
   ]
  },
  {
   "cell_type": "code",
   "execution_count": 9,
   "metadata": {},
   "outputs": [
    {
     "name": "stdout",
     "output_type": "stream",
     "text": [
      "For kernel = linear The accuracy is : 0.9851851851851852\n",
      "For kernel = poly with degree = 2 The accuracy is : 0.9814814814814815\n",
      "For kernel = poly with degree = 3 The accuracy is : 0.987037037037037\n",
      "For kernel = poly with degree = 4 The accuracy is : 0.9666666666666667\n",
      "For kernel = poly with degree = 5 The accuracy is : 0.9388888888888889\n",
      "For kernel = poly with degree = 6 The accuracy is : 0.9055555555555556\n",
      "For kernel = rbf The accuracy is : 0.975925925925926\n",
      "For kernel = sigmoid The accuracy is : 0.9092592592592592\n"
     ]
    }
   ],
   "source": [
    "kernels = ['linear', 'poly', 'rbf', 'sigmoid']\n",
    "degrees = [2, 3, 4, 5, 6]\n",
    "\n",
    "for kernel_ in kernels:\n",
    "    if kernel_ == 'poly':\n",
    "        for degree_ in degrees:\n",
    "            clf = make_pipeline(StandardScaler(), NuSVC(nu=0.1, kernel=kernel_, degree= degree_))\n",
    "            clf.fit(X_train, y_train)\n",
    "            y_pred = clf.predict(X_test)\n",
    "            acc = metrics.accuracy_score(y_test, y_pred)\n",
    "            print(\n",
    "                \"For kernel =\",\n",
    "                kernel_,\n",
    "                \"with degree =\",\n",
    "                degree_,\n",
    "                \"The accuracy is :\",\n",
    "                acc,\n",
    "            )\n",
    "    else:\n",
    "        clf = make_pipeline(StandardScaler(), NuSVC(nu=0.1, kernel=kernel_))\n",
    "        clf.fit(X_train, y_train)\n",
    "        y_pred = clf.predict(X_test)\n",
    "        acc = metrics.accuracy_score(y_test, y_pred)\n",
    "        print(\n",
    "            \"For kernel =\",\n",
    "            kernel_,\n",
    "            \"The accuracy is :\",\n",
    "            acc,\n",
    "        )\n",
    "    "
   ]
  },
  {
   "cell_type": "markdown",
   "metadata": {},
   "source": [
    "https://towardsdatascience.com/svm-and-kernel-svm-fed02bef1200"
   ]
  },
  {
   "cell_type": "code",
   "execution_count": 10,
   "metadata": {},
   "outputs": [
    {
     "name": "stdout",
     "output_type": "stream",
     "text": [
      "              precision    recall  f1-score   support\n",
      "\n",
      "           0       1.00      1.00      1.00        54\n",
      "           1       1.00      0.96      0.98        55\n",
      "           2       1.00      0.98      0.99        53\n",
      "           3       1.00      0.98      0.99        55\n",
      "           4       1.00      0.98      0.99        54\n",
      "           5       1.00      0.98      0.99        55\n",
      "           6       1.00      1.00      1.00        54\n",
      "           7       0.98      1.00      0.99        54\n",
      "           8       0.91      1.00      0.95        52\n",
      "           9       0.98      0.98      0.98        54\n",
      "\n",
      "    accuracy                           0.99       540\n",
      "   macro avg       0.99      0.99      0.99       540\n",
      "weighted avg       0.99      0.99      0.99       540\n",
      "\n"
     ]
    }
   ],
   "source": [
    "clf = make_pipeline(StandardScaler(), NuSVC(nu=0.1, kernel='poly', degree=3))\n",
    "clf.fit(X_train, y_train)\n",
    "y_pred = clf.predict(X_test)\n",
    "print(metrics.classification_report(y_test, y_pred))"
   ]
  },
  {
   "cell_type": "code",
   "execution_count": null,
   "metadata": {},
   "outputs": [],
   "source": []
  }
 ],
 "metadata": {
  "kernelspec": {
   "display_name": "Python 3 (ipykernel)",
   "language": "python",
   "name": "python3"
  },
  "language_info": {
   "codemirror_mode": {
    "name": "ipython",
    "version": 3
   },
   "file_extension": ".py",
   "mimetype": "text/x-python",
   "name": "python",
   "nbconvert_exporter": "python",
   "pygments_lexer": "ipython3",
   "version": "3.8.10"
  }
 },
 "nbformat": 4,
 "nbformat_minor": 4
}
