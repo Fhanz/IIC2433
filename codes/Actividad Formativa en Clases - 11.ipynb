{
 "cells": [
  {
   "cell_type": "markdown",
   "metadata": {},
   "source": [
    "# IIC-2433 Minería de Datos UC"
   ]
  },
  {
   "cell_type": "markdown",
   "metadata": {},
   "source": [
    "- Versiones de librerías, python 3.8.10\n",
    "\n",
    "- numpy 1.20.3\n",
    "- sklearn 1.0.2"
   ]
  },
  {
   "cell_type": "markdown",
   "metadata": {},
   "source": [
    "\n",
    "## Actividad en clase\n",
    "\n",
    "Usando el algoritmo **AdaBoost**, haga lo siguiente:\n",
    "\n",
    "- Trabaje con las particiones training/testing del dataset **fetch_covtype**. Use 5000 muestras para training y 10000 para testing. Aplique un min_max scaler y luego un normalizer a los datos.\n",
    "- Ajuste el clasificador **AdaBoost** sobre los datos usando como clasificador base árboles de decisión. Debe buscar exhaustivamente todas las posibles combinaciones de parámetros del algoritmo (T in {50, 100, 200, 500, 1000} y max_depth in {2, 3, 4, 5}).\n",
    "- Evalúe el mejor modelo en la partición de testing mostrando la curva de error. Luego muestre el classification_report del clasificador.\n",
    "- Cuanto termine, me avisa para entregarle una **L (logrado)**.\n",
    "- Recuerde que cada L es una décima más en la nota de la asignatura.\n",
    "- Pueden trabajar de a dos.\n",
    "\n",
    "***Tiene hasta el final de la clase.***\n"
   ]
  },
  {
   "cell_type": "markdown",
   "metadata": {},
   "source": [
    "# Solución"
   ]
  },
  {
   "cell_type": "code",
   "execution_count": 1,
   "metadata": {},
   "outputs": [],
   "source": [
    "from sklearn.datasets import fetch_covtype\n",
    "\n",
    "X, y = fetch_covtype(return_X_y=True)"
   ]
  },
  {
   "cell_type": "code",
   "execution_count": 2,
   "metadata": {},
   "outputs": [],
   "source": [
    "from sklearn.model_selection import train_test_split\n",
    "\n",
    "X_train, X_test, y_train, y_test = train_test_split(X, y, train_size=5_000, test_size=10_000, random_state=42)"
   ]
  },
  {
   "cell_type": "code",
   "execution_count": 3,
   "metadata": {},
   "outputs": [],
   "source": [
    "from sklearn.preprocessing import MinMaxScaler, Normalizer\n",
    "from sklearn.pipeline import make_pipeline\n",
    "\n",
    "mm = make_pipeline(MinMaxScaler(), Normalizer())\n",
    "X_train = mm.fit_transform(X_train)\n",
    "X_test = mm.transform(X_test)"
   ]
  },
  {
   "cell_type": "code",
   "execution_count": 4,
   "metadata": {},
   "outputs": [
    {
     "name": "stdout",
     "output_type": "stream",
     "text": [
      "For max_depth = 2 and t = 50 The accuracy is : 0.6601\n",
      "For max_depth = 2 and t = 100 The accuracy is : 0.6534\n",
      "For max_depth = 2 and t = 200 The accuracy is : 0.6566\n",
      "For max_depth = 2 and t = 500 The accuracy is : 0.6306\n",
      "For max_depth = 2 and t = 1000 The accuracy is : 0.6241\n",
      "For max_depth = 3 and t = 50 The accuracy is : 0.5781\n",
      "For max_depth = 3 and t = 100 The accuracy is : 0.5634\n",
      "For max_depth = 3 and t = 200 The accuracy is : 0.5594\n",
      "For max_depth = 3 and t = 500 The accuracy is : 0.5805\n",
      "For max_depth = 3 and t = 1000 The accuracy is : 0.578\n",
      "For max_depth = 4 and t = 50 The accuracy is : 0.6244\n",
      "For max_depth = 4 and t = 100 The accuracy is : 0.648\n",
      "For max_depth = 4 and t = 200 The accuracy is : 0.6531\n",
      "For max_depth = 4 and t = 500 The accuracy is : 0.6441\n",
      "For max_depth = 4 and t = 1000 The accuracy is : 0.6479\n",
      "For max_depth = 5 and t = 50 The accuracy is : 0.6219\n",
      "For max_depth = 5 and t = 100 The accuracy is : 0.6554\n",
      "For max_depth = 5 and t = 200 The accuracy is : 0.6731\n",
      "For max_depth = 5 and t = 500 The accuracy is : 0.6879\n",
      "For max_depth = 5 and t = 1000 The accuracy is : 0.686\n"
     ]
    }
   ],
   "source": [
    "from sklearn.ensemble import AdaBoostClassifier\n",
    "from sklearn.tree import DecisionTreeClassifier\n",
    "from sklearn import metrics\n",
    "\n",
    "range_T = [50, 100, 200, 500, 1000]\n",
    "\n",
    "    \n",
    "for t_ in range_T:\n",
    "    clf = AdaBoostClassifier(DecisionTreeClassifier(max_depth=2), n_estimators=t_, random_state=0)\n",
    "    clf.fit(X_train, y_train)\n",
    "    y_pred = clf.predict(X_test)\n",
    "    acc = metrics.accuracy_score(y_test, y_pred)\n",
    "    print(\n",
    "        \"For max_depth = 2 and t =\",\n",
    "        t_,\n",
    "        \"The accuracy is :\",\n",
    "        acc,\n",
    "    )\n",
    "    \n",
    "for t_ in range_T:\n",
    "    clf = AdaBoostClassifier(DecisionTreeClassifier(max_depth=3), n_estimators=t_, random_state=0)\n",
    "    clf.fit(X_train, y_train)\n",
    "    y_pred = clf.predict(X_test)\n",
    "    acc = metrics.accuracy_score(y_test, y_pred)\n",
    "    print(\n",
    "        \"For max_depth = 3 and t =\",\n",
    "        t_,\n",
    "        \"The accuracy is :\",\n",
    "        acc,\n",
    "    )\n",
    "    \n",
    "for t_ in range_T:\n",
    "    clf = AdaBoostClassifier(DecisionTreeClassifier(max_depth=4), n_estimators=t_, random_state=0)\n",
    "    clf.fit(X_train, y_train)\n",
    "    y_pred = clf.predict(X_test)\n",
    "    acc = metrics.accuracy_score(y_test, y_pred)\n",
    "    print(\n",
    "        \"For max_depth = 4 and t =\",\n",
    "        t_,\n",
    "        \"The accuracy is :\",\n",
    "        acc,\n",
    "    )\n",
    "\n",
    "    \n",
    "for t_ in range_T:\n",
    "    clf = AdaBoostClassifier(DecisionTreeClassifier(max_depth=5), n_estimators=t_, random_state=0)\n",
    "    clf.fit(X_train, y_train)\n",
    "    y_pred = clf.predict(X_test)\n",
    "    acc = metrics.accuracy_score(y_test, y_pred)\n",
    "    print(\n",
    "        \"For max_depth = 5 and t =\",\n",
    "        t_,\n",
    "        \"The accuracy is :\",\n",
    "        acc,\n",
    "    )"
   ]
  },
  {
   "cell_type": "code",
   "execution_count": 5,
   "metadata": {},
   "outputs": [],
   "source": [
    "clf = AdaBoostClassifier(DecisionTreeClassifier(max_depth=5), n_estimators=500, random_state=0)\n",
    "clf.fit(X_train, y_train)\n",
    "y_pred = clf.predict(X_test)\n",
    "acc = metrics.accuracy_score(y_test, y_pred)"
   ]
  },
  {
   "cell_type": "code",
   "execution_count": 6,
   "metadata": {},
   "outputs": [
    {
     "data": {
      "text/plain": [
       "Text(0.5, 0, 'Number of Trees')"
      ]
     },
     "execution_count": 6,
     "metadata": {},
     "output_type": "execute_result"
    },
    {
     "data": {
      "image/png": "[encoded data removed]",
      "text/plain": [
       "<Figure size 1080x360 with 1 Axes>"
      ]
     },
     "metadata": {
      "needs_background": "light"
     },
     "output_type": "display_data"
    }
   ],
   "source": [
    "from sklearn.metrics import accuracy_score\n",
    "import matplotlib.pyplot as plt\n",
    "\n",
    "test_errors = []\n",
    "\n",
    "for test_predict in clf.staged_predict(X_test):\n",
    "    test_errors.append(1.0 - accuracy_score(test_predict, y_test))\n",
    "    \n",
    "\n",
    "\n",
    "\n",
    "plt.figure(figsize=(15, 5))\n",
    "\n",
    "plt.plot(range(1, len(clf) + 1), test_errors, c=\"black\")\n",
    "plt.ylabel(\"Test Error\")\n",
    "plt.xlabel(\"Number of Trees\")"
   ]
  },
  {
   "cell_type": "code",
   "execution_count": 7,
   "metadata": {},
   "outputs": [
    {
     "name": "stdout",
     "output_type": "stream",
     "text": [
      "              precision    recall  f1-score   support\n",
      "\n",
      "           1       0.64      0.70      0.67      3683\n",
      "           2       0.72      0.71      0.72      4841\n",
      "           3       0.75      0.77      0.76       623\n",
      "           4       0.74      0.53      0.62        47\n",
      "           5       0.72      0.17      0.28       160\n",
      "           6       0.60      0.40      0.48       299\n",
      "           7       0.70      0.52      0.60       347\n",
      "\n",
      "    accuracy                           0.69     10000\n",
      "   macro avg       0.70      0.55      0.59     10000\n",
      "weighted avg       0.69      0.69      0.68     10000\n",
      "\n"
     ]
    }
   ],
   "source": [
    "from sklearn import metrics\n",
    "\n",
    "print(metrics.classification_report(y_test, y_pred))"
   ]
  },
  {
   "cell_type": "markdown",
   "metadata": {},
   "source": [
    "Ver información del dataset en: https://archive.ics.uci.edu/ml/datasets/Covertype"
   ]
  },
  {
   "cell_type": "code",
   "execution_count": null,
   "metadata": {},
   "outputs": [],
   "source": []
  }
 ],
 "metadata": {
  "kernelspec": {
   "display_name": "Python 3 (ipykernel)",
   "language": "python",
   "name": "python3"
  },
  "language_info": {
   "codemirror_mode": {
    "name": "ipython",
    "version": 3
   },
   "file_extension": ".py",
   "mimetype": "text/x-python",
   "name": "python",
   "nbconvert_exporter": "python",
   "pygments_lexer": "ipython3",
   "version": "3.8.10"
  }
 },
 "nbformat": 4,
 "nbformat_minor": 4
}
