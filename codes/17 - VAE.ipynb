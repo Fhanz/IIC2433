{
 "cells": [
  {
   "cell_type": "markdown",
   "metadata": {},
   "source": [
    "# IIC-2433 Minería de Datos UC"
   ]
  },
  {
   "cell_type": "markdown",
   "metadata": {},
   "source": [
    "- Versiones de librerías, python 3.8.10\n",
    "\n",
    "- numpy 1.20.3\n",
    "- nltk 3.7\n",
    "- keras 2.9.0\n",
    "- tensorflow 2.9.1\n"
   ]
  },
  {
   "cell_type": "code",
   "execution_count": 1,
   "metadata": {},
   "outputs": [],
   "source": [
    "import numpy as np\n",
    "import tensorflow as tf\n",
    "from tensorflow import keras\n",
    "from tensorflow.keras import layers"
   ]
  },
  {
   "cell_type": "code",
   "execution_count": 2,
   "metadata": {},
   "outputs": [],
   "source": [
    "class Sampling(layers.Layer):\n",
    "\n",
    "    def call(self, inputs):\n",
    "        z_mean, z_log_var = inputs\n",
    "        batch = tf.shape(z_mean)[0]\n",
    "        dim = tf.shape(z_mean)[1]\n",
    "        epsilon = tf.keras.backend.random_normal(shape=(batch, dim))\n",
    "        return z_mean + tf.exp(0.5 * z_log_var) * epsilon"
   ]
  },
  {
   "cell_type": "code",
   "execution_count": 3,
   "metadata": {},
   "outputs": [
    {
     "name": "stdout",
     "output_type": "stream",
     "text": [
      "Model: \"encoder\"\n",
      "__________________________________________________________________________________________________\n",
      " Layer (type)                   Output Shape         Param #     Connected to                     \n",
      "==================================================================================================\n",
      " input_1 (InputLayer)           [(None, 28, 28, 1)]  0           []                               \n",
      "                                                                                                  \n",
      " conv2d (Conv2D)                (None, 14, 14, 32)   320         ['input_1[0][0]']                \n",
      "                                                                                                  \n",
      " conv2d_1 (Conv2D)              (None, 7, 7, 64)     18496       ['conv2d[0][0]']                 \n",
      "                                                                                                  \n",
      " flatten (Flatten)              (None, 3136)         0           ['conv2d_1[0][0]']               \n",
      "                                                                                                  \n",
      " dense (Dense)                  (None, 16)           50192       ['flatten[0][0]']                \n",
      "                                                                                                  \n",
      " z_mean (Dense)                 (None, 2)            34          ['dense[0][0]']                  \n",
      "                                                                                                  \n",
      " z_log_var (Dense)              (None, 2)            34          ['dense[0][0]']                  \n",
      "                                                                                                  \n",
      " sampling (Sampling)            (None, 2)            0           ['z_mean[0][0]',                 \n",
      "                                                                  'z_log_var[0][0]']              \n",
      "                                                                                                  \n",
      "==================================================================================================\n",
      "Total params: 69,076\n",
      "Trainable params: 69,076\n",
      "Non-trainable params: 0\n",
      "__________________________________________________________________________________________________\n"
     ]
    }
   ],
   "source": [
    "latent_dim = 2\n",
    "\n",
    "encoder_inputs = keras.Input(shape=(28, 28, 1))\n",
    "x = layers.Conv2D(32, 3, activation=\"relu\", strides=2, padding=\"same\")(encoder_inputs)\n",
    "x = layers.Conv2D(64, 3, activation=\"relu\", strides=2, padding=\"same\")(x)\n",
    "x = layers.Flatten()(x)\n",
    "x = layers.Dense(16, activation=\"relu\")(x)\n",
    "z_mean = layers.Dense(latent_dim, name=\"z_mean\")(x)\n",
    "z_log_var = layers.Dense(latent_dim, name=\"z_log_var\")(x)\n",
    "z = Sampling()([z_mean, z_log_var])\n",
    "encoder = keras.Model(encoder_inputs, [z_mean, z_log_var, z], name=\"encoder\")\n",
    "encoder.summary()"
   ]
  },
  {
   "cell_type": "code",
   "execution_count": 4,
   "metadata": {},
   "outputs": [
    {
     "name": "stdout",
     "output_type": "stream",
     "text": [
      "Model: \"decoder\"\n",
      "_________________________________________________________________\n",
      " Layer (type)                Output Shape              Param #   \n",
      "=================================================================\n",
      " input_2 (InputLayer)        [(None, 2)]               0         \n",
      "                                                                 \n",
      " dense_1 (Dense)             (None, 3136)              9408      \n",
      "                                                                 \n",
      " reshape (Reshape)           (None, 7, 7, 64)          0         \n",
      "                                                                 \n",
      " conv2d_transpose (Conv2DTra  (None, 14, 14, 64)       36928     \n",
      " nspose)                                                         \n",
      "                                                                 \n",
      " conv2d_transpose_1 (Conv2DT  (None, 28, 28, 32)       18464     \n",
      " ranspose)                                                       \n",
      "                                                                 \n",
      " conv2d_transpose_2 (Conv2DT  (None, 28, 28, 1)        289       \n",
      " ranspose)                                                       \n",
      "                                                                 \n",
      "=================================================================\n",
      "Total params: 65,089\n",
      "Trainable params: 65,089\n",
      "Non-trainable params: 0\n",
      "_________________________________________________________________\n"
     ]
    }
   ],
   "source": [
    "latent_inputs = keras.Input(shape=(latent_dim,))\n",
    "x = layers.Dense(7 * 7 * 64, activation=\"relu\")(latent_inputs)\n",
    "x = layers.Reshape((7, 7, 64))(x)\n",
    "x = layers.Conv2DTranspose(64, 3, activation=\"relu\", strides=2, padding=\"same\")(x)\n",
    "x = layers.Conv2DTranspose(32, 3, activation=\"relu\", strides=2, padding=\"same\")(x)\n",
    "decoder_outputs = layers.Conv2DTranspose(1, 3, activation=\"sigmoid\", padding=\"same\")(x)\n",
    "decoder = keras.Model(latent_inputs, decoder_outputs, name=\"decoder\")\n",
    "decoder.summary()"
   ]
  },
  {
   "cell_type": "code",
   "execution_count": 5,
   "metadata": {},
   "outputs": [],
   "source": [
    "class VAE(keras.Model):\n",
    "    def __init__(self, encoder, decoder, **kwargs):\n",
    "        super().__init__(**kwargs)\n",
    "        self.encoder = encoder\n",
    "        self.decoder = decoder\n",
    "        self.total_loss_tracker = keras.metrics.Mean(name=\"total_loss\")\n",
    "        self.reconstruction_loss_tracker = keras.metrics.Mean(\n",
    "            name=\"reconstruction_loss\"\n",
    "        )\n",
    "        self.kl_loss_tracker = keras.metrics.Mean(name=\"kl_loss\")\n",
    "\n",
    "    @property\n",
    "    def metrics(self):\n",
    "        return [\n",
    "            self.total_loss_tracker,\n",
    "            self.reconstruction_loss_tracker,\n",
    "            self.kl_loss_tracker,\n",
    "        ]\n",
    "\n",
    "    def train_step(self, data):\n",
    "        with tf.GradientTape() as tape:\n",
    "            z_mean, z_log_var, z = self.encoder(data)\n",
    "            reconstruction = self.decoder(z)\n",
    "            reconstruction_loss = tf.reduce_mean(\n",
    "                tf.reduce_sum(\n",
    "                    keras.losses.binary_crossentropy(data, reconstruction), axis=(1, 2)\n",
    "                )\n",
    "            )\n",
    "            kl_loss = -0.5 * (1 + z_log_var - tf.square(z_mean) - tf.exp(z_log_var))\n",
    "            kl_loss = tf.reduce_mean(tf.reduce_sum(kl_loss, axis=1))\n",
    "            total_loss = reconstruction_loss + kl_loss\n",
    "        grads = tape.gradient(total_loss, self.trainable_weights)\n",
    "        self.optimizer.apply_gradients(zip(grads, self.trainable_weights))\n",
    "        self.total_loss_tracker.update_state(total_loss)\n",
    "        self.reconstruction_loss_tracker.update_state(reconstruction_loss)\n",
    "        self.kl_loss_tracker.update_state(kl_loss)\n",
    "        return {\n",
    "            \"loss\": self.total_loss_tracker.result(),\n",
    "            \"reconstruction_loss\": self.reconstruction_loss_tracker.result(),\n",
    "            \"kl_loss\": self.kl_loss_tracker.result(),\n",
    "        }"
   ]
  },
  {
   "cell_type": "code",
   "execution_count": 6,
   "metadata": {},
   "outputs": [],
   "source": [
    "(x_train, _), (x_test, _) = keras.datasets.mnist.load_data()"
   ]
  },
  {
   "cell_type": "code",
   "execution_count": 7,
   "metadata": {},
   "outputs": [
    {
     "data": {
      "text/plain": [
       "(60000, 28, 28)"
      ]
     },
     "execution_count": 7,
     "metadata": {},
     "output_type": "execute_result"
    }
   ],
   "source": [
    "x_train.shape"
   ]
  },
  {
   "cell_type": "code",
   "execution_count": 8,
   "metadata": {},
   "outputs": [
    {
     "name": "stdout",
     "output_type": "stream",
     "text": [
      "Epoch 1/30\n",
      "547/547 [==============================] - 20s 36ms/step - loss: 266.6546 - reconstruction_loss: 211.5581 - kl_loss: 1.7699\n",
      "Epoch 2/30\n",
      "547/547 [==============================] - 20s 36ms/step - loss: 169.3936 - reconstruction_loss: 162.0315 - kl_loss: 4.8349\n",
      "Epoch 3/30\n",
      "547/547 [==============================] - 20s 36ms/step - loss: 162.0568 - reconstruction_loss: 155.9684 - kl_loss: 5.2461\n",
      "Epoch 4/30\n",
      "547/547 [==============================] - 20s 36ms/step - loss: 159.2365 - reconstruction_loss: 153.3881 - kl_loss: 5.4353\n",
      "Epoch 5/30\n",
      "547/547 [==============================] - 19s 35ms/step - loss: 157.4935 - reconstruction_loss: 151.7439 - kl_loss: 5.5574\n",
      "Epoch 6/30\n",
      "547/547 [==============================] - 19s 35ms/step - loss: 156.3450 - reconstruction_loss: 150.6612 - kl_loss: 5.6438\n",
      "Epoch 7/30\n",
      "547/547 [==============================] - 19s 36ms/step - loss: 155.2636 - reconstruction_loss: 149.7469 - kl_loss: 5.6952\n",
      "Epoch 8/30\n",
      "547/547 [==============================] - 19s 35ms/step - loss: 155.0563 - reconstruction_loss: 149.0575 - kl_loss: 5.7623\n",
      "Epoch 9/30\n",
      "547/547 [==============================] - 19s 35ms/step - loss: 154.1954 - reconstruction_loss: 148.4138 - kl_loss: 5.7987\n",
      "Epoch 10/30\n",
      "547/547 [==============================] - 20s 36ms/step - loss: 153.5753 - reconstruction_loss: 147.8573 - kl_loss: 5.8315\n",
      "Epoch 11/30\n",
      "547/547 [==============================] - 20s 36ms/step - loss: 152.8402 - reconstruction_loss: 147.2587 - kl_loss: 5.8848\n",
      "Epoch 12/30\n",
      "547/547 [==============================] - 19s 35ms/step - loss: 152.5304 - reconstruction_loss: 146.9249 - kl_loss: 5.9036\n",
      "Epoch 13/30\n",
      "547/547 [==============================] - 19s 35ms/step - loss: 152.1852 - reconstruction_loss: 146.5720 - kl_loss: 5.9264\n",
      "Epoch 14/30\n",
      "547/547 [==============================] - 20s 36ms/step - loss: 152.5645 - reconstruction_loss: 146.2873 - kl_loss: 5.9721\n",
      "Epoch 15/30\n",
      "547/547 [==============================] - 19s 35ms/step - loss: 151.9648 - reconstruction_loss: 145.9245 - kl_loss: 5.9768\n",
      "Epoch 16/30\n",
      "547/547 [==============================] - 20s 36ms/step - loss: 151.7530 - reconstruction_loss: 145.6763 - kl_loss: 6.0389\n",
      "Epoch 17/30\n",
      "547/547 [==============================] - 20s 36ms/step - loss: 151.4395 - reconstruction_loss: 145.3588 - kl_loss: 6.0422\n",
      "Epoch 18/30\n",
      "547/547 [==============================] - 20s 36ms/step - loss: 151.3549 - reconstruction_loss: 145.1660 - kl_loss: 6.0659\n",
      "Epoch 19/30\n",
      "547/547 [==============================] - 20s 36ms/step - loss: 151.0908 - reconstruction_loss: 144.8778 - kl_loss: 6.0906\n",
      "Epoch 20/30\n",
      "547/547 [==============================] - 20s 36ms/step - loss: 150.8456 - reconstruction_loss: 144.6933 - kl_loss: 6.1113\n",
      "Epoch 21/30\n",
      "547/547 [==============================] - 20s 36ms/step - loss: 150.6664 - reconstruction_loss: 144.4684 - kl_loss: 6.1169\n",
      "Epoch 22/30\n",
      "547/547 [==============================] - 19s 35ms/step - loss: 150.2569 - reconstruction_loss: 144.3799 - kl_loss: 6.1291\n",
      "Epoch 23/30\n",
      "547/547 [==============================] - 20s 37ms/step - loss: 150.3186 - reconstruction_loss: 144.1085 - kl_loss: 6.1659\n",
      "Epoch 24/30\n",
      "547/547 [==============================] - 20s 36ms/step - loss: 150.0879 - reconstruction_loss: 143.9797 - kl_loss: 6.1777\n",
      "Epoch 25/30\n",
      "547/547 [==============================] - 20s 36ms/step - loss: 150.1261 - reconstruction_loss: 143.8173 - kl_loss: 6.1994\n",
      "Epoch 26/30\n",
      "547/547 [==============================] - 19s 35ms/step - loss: 149.7367 - reconstruction_loss: 143.6393 - kl_loss: 6.2069\n",
      "Epoch 27/30\n",
      "547/547 [==============================] - 20s 36ms/step - loss: 149.6457 - reconstruction_loss: 143.5597 - kl_loss: 6.2082\n",
      "Epoch 28/30\n",
      "547/547 [==============================] - 20s 36ms/step - loss: 149.7269 - reconstruction_loss: 143.3817 - kl_loss: 6.2435\n",
      "Epoch 29/30\n",
      "547/547 [==============================] - 20s 36ms/step - loss: 149.6946 - reconstruction_loss: 143.2505 - kl_loss: 6.2350\n",
      "Epoch 30/30\n",
      "547/547 [==============================] - 19s 36ms/step - loss: 149.4649 - reconstruction_loss: 143.1383 - kl_loss: 6.2684\n"
     ]
    },
    {
     "data": {
      "text/plain": [
       "<keras.callbacks.History at 0x7f4de85a1130>"
      ]
     },
     "execution_count": 8,
     "metadata": {},
     "output_type": "execute_result"
    }
   ],
   "source": [
    "mnist_digits = np.concatenate([x_train, x_test], axis=0)\n",
    "mnist_digits = np.expand_dims(mnist_digits, -1).astype(\"float32\") / 255\n",
    "\n",
    "vae = VAE(encoder, decoder)\n",
    "vae.compile(optimizer=keras.optimizers.Adam())\n",
    "vae.fit(mnist_digits, epochs=30, batch_size=128)"
   ]
  },
  {
   "cell_type": "code",
   "execution_count": 10,
   "metadata": {},
   "outputs": [
    {
     "name": "stdout",
     "output_type": "stream",
     "text": [
      "1/1 [==============================] - 0s 26ms/step\n"
     ]
    },
    {
     "data": {
      "image/png": "[encoded data removed]",
      "text/plain": [
       "<Figure size 72x72 with 1 Axes>"
      ]
     },
     "metadata": {
      "needs_background": "light"
     },
     "output_type": "display_data"
    }
   ],
   "source": [
    "import random\n",
    "import matplotlib.pyplot as plt\n",
    "\n",
    "digit_size = 28\n",
    "scale = 1.0\n",
    "x_ = random.uniform(-scale, scale)\n",
    "y_ = random.uniform(-scale, scale)\n",
    "z_sample = np.array([[x_, y_]])\n",
    "x_decoded = vae.decoder.predict(z_sample)\n",
    "digit = x_decoded[0].reshape(digit_size, digit_size)\n",
    "plt.figure(figsize=(1,1))\n",
    "plt.axis('off')\n",
    "plt.imshow(digit, cmap=\"Greys_r\")\n",
    "plt.show()"
   ]
  },
  {
   "cell_type": "code",
   "execution_count": null,
   "metadata": {},
   "outputs": [],
   "source": []
  }
 ],
 "metadata": {
  "kernelspec": {
   "display_name": "Python 3",
   "language": "python",
   "name": "python3"
  },
  "language_info": {
   "codemirror_mode": {
    "name": "ipython",
    "version": 3
   },
   "file_extension": ".py",
   "mimetype": "text/x-python",
   "name": "python",
   "nbconvert_exporter": "python",
   "pygments_lexer": "ipython3",
   "version": "3.8.10"
  }
 },
 "nbformat": 4,
 "nbformat_minor": 4
}
